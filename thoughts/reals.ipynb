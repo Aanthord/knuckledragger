{
 "cells": [
  {
   "cell_type": "code",
   "execution_count": null,
   "metadata": {},
   "outputs": [],
   "source": []
  },
  {
   "cell_type": "markdown",
   "metadata": {},
   "source": [
    "Transfer principle schema.\n",
    "\n",
    "Use Z3 reals.\n",
    "Transfer anystatement to the hyperreals.\n",
    "\n",
    "\n"
   ]
  },
  {
   "cell_type": "code",
   "execution_count": null,
   "metadata": {},
   "outputs": [],
   "source": [
    "from z3 import *\n",
    "\n",
    "HR = Sort(\"HyperReal\")\n",
    "R = RealSort()\n",
    "\n",
    "std = Function(\"std\", HR, R)\n",
    "inj = Function(\"inj\", R, HR)\n",
    "\n",
    "axiom(std(inj(x)) == x)\n",
    "\n",
    "# eps?\n",
    "# exists([eps], QForAll([x], x > 0, eps < std(x)))\n",
    "\n",
    "\n",
    "\n",
    "def transfer(thm):\n",
    "    #check theorem only talks about R.\n",
    "    #replace R with HR\n",
    "    #return as theorem\n",
    "\n",
    "infer([], ForAll([x,y], x + y == y + x))\n",
    "\n"
   ]
  }
 ],
 "metadata": {
  "language_info": {
   "name": "python"
  }
 },
 "nbformat": 4,
 "nbformat_minor": 2
}
