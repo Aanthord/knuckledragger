{
 "cells": [
  {
   "cell_type": "markdown",
   "metadata": {},
   "source": [
    "Many systems offer notation mechanisms.\n",
    "Python gives you operator overloading of course, which gets you pretty far.\n",
    "But sometimes maybe it's nice to parse strings or extend a DSL.\n",
    "Lark is a parser generator library that is pretty great. In the cases where it's worth it (which are rare imo), can use Lark. Lark is also extensible, you can import grammars into other grammar. Subclassing the transformer then gives you the ability to add new notations.\n",
    "f strings also can enable interesting quasiquotation strategies\n"
   ]
  }
 ],
 "metadata": {
  "language_info": {
   "name": "python"
  }
 },
 "nbformat": 4,
 "nbformat_minor": 2
}
