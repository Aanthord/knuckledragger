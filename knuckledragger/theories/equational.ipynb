{
 "cells": [
  {
   "cell_type": "markdown",
   "metadata": {},
   "source": [
    "# Algebra of Programming\n",
    "- Dijkstra\n",
    "- backhouse\n",
    "- http://www.mathmeth.com/read.shtml\n",
    "- Bird book\n",
    "- AoP book\n",
    "- Gries\n"
   ]
  }
 ],
 "metadata": {
  "language_info": {
   "name": "python"
  }
 },
 "nbformat": 4,
 "nbformat_minor": 2
}
