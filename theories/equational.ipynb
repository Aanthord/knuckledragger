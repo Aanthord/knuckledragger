{
 "cells": [
  {
   "cell_type": "markdown",
   "metadata": {},
   "source": [
    "# Algebra of Programming\n",
    "- Dijkstra\n",
    "- backhouse\n",
    "- http://www.mathmeth.com/read.shtml\n",
    "- Bird book\n",
    "- AoP book\n",
    "- Gries https://www.cs.cornell.edu/fbs/publications/EqPropLogic.pdf\n",
    "\n",
    "\n",
    "https://arxiv.org/abs/2312.06103 equatonal reasoning dependent types. references gibbons paper\n",
    "https://leahneukirchen.org/caudex/equational-reasoning.html great links\n",
    "\n",
    "Triggers and evaluation order. There is a sense that we want rules to be simplifying. In coq etc one cares alot about computational content. Z3 triggers are a way to approach this. "
   ]
  },
  {
   "cell_type": "code",
   "execution_count": null,
   "metadata": {},
   "outputs": [],
   "source": [
    "!pip install git+https://github.com/philzook58/knuckledragger.git\n"
   ]
  },
  {
   "cell_type": "markdown",
   "metadata": {},
   "source": [
    "<a target=\"_blank\" href=\"https://colab.research.google.com/github/philzook58/knuckledragger.git\">\n",
    "  <img src=\"https://colab.research.google.com/assets/colab-badge.svg\" alt=\"Open In Colab\"/>\n",
    "</a>"
   ]
  },
  {
   "cell_type": "markdown",
   "metadata": {},
   "source": [
    "Open in google colab <https://colab.research.google.com/github/philzook58/knuckledragger/blob/main/theories/equational.ipynb>"
   ]
  },
  {
   "cell_type": "markdown",
   "metadata": {},
   "source": [
    "There are examples of `calc` tactics elsewhere in lean and dafny. Rather than using the raw inference rules, we can write down an equational proof "
   ]
  },
  {
   "cell_type": "code",
   "execution_count": 25,
   "metadata": {},
   "outputs": [],
   "source": [
    "from knuckledragger.kernel import infer\n",
    "class Calc():\n",
    "    def __init__(self, lhs, rhs, ctx = []):\n",
    "        self.terms = [lhs]\n",
    "        self.thm = infer(ctx, lhs == lhs)\n",
    "        self.thms = []\n",
    "        self.goal = rhs\n",
    "        self.ctx = ctx\n",
    "    def then(self, rhs, by=[]): # step? rw?\n",
    "        thm = infer(by + self.ctx, self.terms[-1] == rhs)\n",
    "        self.thm = infer([thm, self.thm], self.terms[0] == rhs)\n",
    "        self.thms.append(thm)\n",
    "        self.terms.append(rhs)\n",
    "        return self\n",
    "    def __eq__(self,rhs): #sadly the way python expands multiple == this does not work that great. needs parens\n",
    "        return self.then(rhs)\n",
    "    def simp(): # use z3 simplify. Weak though becaus can't be context aware\n",
    "        self.\n",
    "        return self\n",
    "    def egg_simp(self):\n",
    "        return self\n",
    "    def __repr__(self):\n",
    "        return \" == \".join(map(repr, self.terms))\n",
    "    def __str__(self):\n",
    "        return repr(self)\n",
    "    def sympy():\n",
    "        return self\n",
    "        pass # use sympy to simplify, use z3 to confirm\n",
    "    def qed(self, by=[]):\n",
    "        if self.terms[-1] is not self.goal:\n",
    "            self.then(self.goal, by=by)\n",
    "        return self.thm\n",
    "    \n",
    "def calc(*steps): # a different syntax for calc\n",
    "    pf = Calc(steps[0], steps[-1])\n",
    "    for t in steps[1:-1]:\n",
    "        pf = pf.then(t)\n",
    "    return pf"
   ]
  },
  {
   "cell_type": "code",
   "execution_count": 29,
   "metadata": {},
   "outputs": [
    {
     "data": {
      "text/plain": [
       "a == b == c == d"
      ]
     },
     "execution_count": 29,
     "metadata": {},
     "output_type": "execute_result"
    }
   ],
   "source": [
    "from knuckledragger.kernel import trust\n",
    "from z3 import *\n",
    "Atom = DeclareSort(\"Atom\")\n",
    "a,b,c,d = Consts(\"a b c d\", Atom)\n",
    "ab = trust(a == b)\n",
    "bc = trust(b == c)\n",
    "cd = trust(c == d)\n",
    "pf = Calc(a, d).then(b, by=[ab]).then(c, by=[bc]).then(d, by=[cd])\n",
    "ad = pf.qed()\n",
    "ad\n",
    "#Calc(a,d, ctx=[ab,bc,cd]) == b == c == d \n",
    "((Calc(a,d, ctx=[ab,bc,cd]) == b) == c) == d"
   ]
  },
  {
   "cell_type": "markdown",
   "metadata": {},
   "source": [
    "You can also calc chain equalities of boolean expressions that are the same.\n",
    "Calc also supports an inequality modes\n",
    "\n",
    "\n",
    "Adding forall."
   ]
  },
  {
   "cell_type": "markdown",
   "metadata": {},
   "source": [
    "# Equational Propositional Logic\n",
    "https://www.cs.cornell.edu/fbs/publications/EqPropLogic.pdf\n",
    "table 2\n",
    "\n",
    "\n",
    "\n"
   ]
  },
  {
   "cell_type": "code",
   "execution_count": null,
   "metadata": {},
   "outputs": [],
   "source": [
    "Prop = DeclareSort(\"Prop\")\n",
    "eq = Function(Prop, Prop, Prop)\n",
    "true = Const(\"true\", Prop)\n",
    "false = Const(\"false\", Prop)\n",
    "_not = Function(Prop, Prop)\n",
    "_and = Function(Prop, Prop, Prop)\n",
    "_or = Function(Prop, Prop, Prop)\n",
    "_implies = Function(Prop, Prop, Prop)\n",
    "\n",
    "#eq_reflect =  trust(Implies(eq(a,b), a == b))\n",
    "eq_reflect = trust(eq(a,b) == (a == b))\n",
    "eq_assoc = trust(eq(eq(a,b),c) == eq(a,eq(b,c)))\n",
    "eq_sym = trust(eq(a,b) == eq(b,a))\n",
    "eq_id = trust(eq(true,eq(a,a)))\n",
    "false_def = trust(eq(false, _not(true)))\n",
    "not_eq_distr = trust(_not(eq(a,b)) == eq(_not(a), b))\n",
    "\n",
    "axioms = [eq_assoc, eq_sym, eq_id, false_def, not_eq_distr]\n",
    "\n",
    "def not_eq(a,b): # macro definition instead of first class.\n",
    "    return _not(eq(a,b))\n",
    "\n",
    "Calc(eq(_and(p, _or(p,q)) p))\n",
    "\n",
    "\n"
   ]
  },
  {
   "cell_type": "markdown",
   "metadata": {},
   "source": [
    "# Concrete Mathematics\n",
    "\n",
    "Josephus\n",
    "Recurrences\n",
    "Using sympy solutions\n",
    "hypergeometric"
   ]
  },
  {
   "cell_type": "code",
   "execution_count": null,
   "metadata": {},
   "outputs": [],
   "source": [
    "\n",
    "_sum = Function(\"sum\", ArraySort(IntSort(), RealSort()), IntSort(), IntSort(), RealSort())\n",
    "def Sum(c_i, i, a, b):\n",
    "    return _sum(Lambda([i], c_i), a, b)\n",
    "sum_base = trust(ForAll([c_i, a], (c_i, a, a) == 0))\n",
    "sum_succ = trust(ForAll([c_i, a ,b], _sum(c_i, a, b+1) == _sum(c_i, a, b) + c_i[b]))\n",
    "\n",
    "#induct = trust()\n",
    "\n",
    "# sum_all = Function(\"sumall\", ArraySort(IntSort(), RealSort()), RealSort()) infinite sum. Harder to treat. Non computational in some sense.\n",
    "# sum_set Function(\"sumset\", ArraySort(IntSort(), RealSort()), ListSort(IntSort()), RealSort())) # finite list\n",
    "# possibly ifninite set?\n",
    "#sum_set = Function(\"sumset\", ArraySort(IntSort(), RealSort()), ArraySort(IntSort(), BoolSort()), ArraySort(IntSort(), RealSort()))\n",
    "\n"
   ]
  },
  {
   "cell_type": "code",
   "execution_count": 34,
   "metadata": {},
   "outputs": [
    {
     "data": {
      "text/plain": [
       "[(7416851326278927786, ForAll(x, pow(x, 0) == 1)),\n",
       " (3910822737024964705, ForAll(x, pow(x, 1) == x**1)),\n",
       " (-8021081544531509068, ForAll(x, pow(x, 2) == x**2)),\n",
       " (9063170249293680640, ForAll(x, pow(x, 3) == x**3)),\n",
       " (8460666806402329999, ForAll(x, pow(x, 4) == x**4))]"
      ]
     },
     "execution_count": 34,
     "metadata": {},
     "output_type": "execute_result"
    }
   ],
   "source": [
    "# we need to axiomatize pow because Z3 power cannot handle variables in the exponent\n",
    "x = Real(\"x\")\n",
    "n = Int(\"n\")\n",
    "pow = Function(\"pow\", RealSort(), IntSort(), RealSort())\n",
    "pow_def = trust(ForAll([x,n], pow(x,n) == If(n == 0, 1, \n",
    "                                          If(n < 0 , pow(x,n+1) / x, \n",
    "                                                     x*pow(x,n-1)))))\n",
    "# can't do this because recursive definition. Fine.\n",
    "#pow, pow_def = define(\"pow\", Lambda([x,n], If(n == 0, 1, \n",
    "#                               If(n < 0 , pow(x,n+1) / x, \n",
    "#                                          x*pow(x,n-1)))))\n",
    "\n",
    "pow_zero = infer([pow_def], ForAll([x], pow(x,0) == 1))\n",
    "pow_one = infer([pow_def, pow_zero], ForAll([x], pow(x,1) == x))\n",
    "pow_one = infer([pow_def, pow_one], ForAll([x], pow(x,1) == x))\n",
    "\n",
    "# axiom specialized to particular powers\n",
    "pown = [pow_zero]\n",
    "for i in range(1,5):\n",
    "    pown.append(infer([pow_def, pown[-1]], ForAll([x], pow(x,i) == x**i)))\n",
    "pown"
   ]
  },
  {
   "cell_type": "code",
   "execution_count": null,
   "metadata": {},
   "outputs": [],
   "source": [
    "fall_pow"
   ]
  },
  {
   "cell_type": "code",
   "execution_count": null,
   "metadata": {},
   "outputs": [],
   "source": []
  }
 ],
 "metadata": {
  "kernelspec": {
   "display_name": "Python 3",
   "language": "python",
   "name": "python3"
  },
  "language_info": {
   "codemirror_mode": {
    "name": "ipython",
    "version": 3
   },
   "file_extension": ".py",
   "mimetype": "text/x-python",
   "name": "python",
   "nbconvert_exporter": "python",
   "pygments_lexer": "ipython3",
   "version": "3.10.12"
  }
 },
 "nbformat": 4,
 "nbformat_minor": 2
}
