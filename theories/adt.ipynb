{
 "cells": [
  {
   "cell_type": "code",
   "execution_count": 10,
   "metadata": {},
   "outputs": [],
   "source": [
    "from knuckledragger.kernel import *\n",
    "from z3 import *\n",
    "class Datatype(z3.Datatype):\n",
    "    def create(self):\n",
    "        DT = super().create()  # z3 already checks for positivity.\n",
    "        PredSort = ArraySort(DT, BoolSort())\n",
    "        # construct an induction principle.\n",
    "        P = FreshConst(PredSort, prefix=\"P\")\n",
    "        hyps = []\n",
    "        for i in range(DT.num_constructors()):\n",
    "            constructor = DT.constructor(i)\n",
    "            args = [\n",
    "                FreshConst(constructor.domain(j), prefix=\"a\")\n",
    "                for j in range(constructor.arity())\n",
    "            ]\n",
    "            acc = P[constructor(*args)]\n",
    "            for arg in args:\n",
    "                if arg.sort() == DT:\n",
    "                    acc = QForAll([arg], P[arg], acc)\n",
    "                else:\n",
    "                    acc = ForAll([arg], acc)\n",
    "            hyps.append(acc)\n",
    "        x = FreshConst(DT, prefix=\"x\")\n",
    "        conc = ForAll([x], P[x])\n",
    "        induct = Lambda([P], Implies(And(hyps), conc))\n",
    "        induct_ax = trust(ForAll([P], induct[P] == True))\n",
    "\n",
    "        # recursor\n",
    "\n",
    "        # store inside the data type?\n",
    "        DT.induct = induct\n",
    "        DT.induct_ax = induct_ax\n",
    "        #DT.rec = rec\n",
    "        return DT\n",
    "\n",
    "def recursor(name, *cases, DT):\n",
    "    assert all(case.range() == DT for case in cases)\n",
    "    f = z3.RecFunction(name, DT, )  # also freshness needs to be checked\n",
    "\n",
    "\n",
    "def define_rec(name, args, body, measure=None):\n",
    "    sig = [arg.sort() for arg in args]\n",
    "    f = z3.RecFunction(name, *sig)  # also freshness needs to be checked. Yikes.\n",
    "    # TODO check termination and totality of definition\n",
    "    RecAddDefinition(f, body)\n",
    "    fun_def = infer([], ForAll(args, f(*args) == body))\n",
    "    return f, fun_def\n"
   ]
  },
  {
   "cell_type": "markdown",
   "metadata": {},
   "source": [
    "Wrappers for algebraic datatypes deriving induction principles, recursion principles, others? Some kind of well foundedness? What does isabelle define?"
   ]
  },
  {
   "cell_type": "code",
   "execution_count": 23,
   "metadata": {},
   "outputs": [
    {
     "name": "stdout",
     "output_type": "stream",
     "text": [
      "proved\n"
     ]
    },
    {
     "data": {
      "text/plain": [
       "1"
      ]
     },
     "execution_count": 23,
     "metadata": {},
     "output_type": "execute_result"
    }
   ],
   "source": [
    "\n",
    "List = Datatype(\"List\")\n",
    "List.declare(\"cons\", (\"car\", IntSort()), (\"cdr\", List))\n",
    "List.declare(\"nil\")\n",
    "List = List.create()\n",
    "List.induct_ax\n",
    "\n",
    "List2 = Datatype(\"List\")\n",
    "List2.declare(\"nil\")\n",
    "List2 = List2.create()\n",
    "List2.induct_ax\n",
    "\n",
    "List2 == List # ruh roh\n",
    "\n",
    "List.induct_ax\n",
    "List2.induct_ax\n",
    "prove(List2.nil == List.nil) # yikes\n",
    "List.num_constructors()\n",
    "List2.num_constructors()\n",
    "# ok so we overwrite the old list.\n",
    "\n",
    "# This possibly invlaidates any oldtheorem"
   ]
  },
  {
   "cell_type": "markdown",
   "metadata": {},
   "source": [
    "I guess one kind of insane option is to allow delayed validation.\n",
    "\n",
    "We might need to rexport everything from z3 with some stuff wrapped. That's a somewhat nuclear options.\n",
    "Or cache when it comes into trust?\n",
    "An even more nuclear option is make my own adt\n",
    "\n"
   ]
  },
  {
   "cell_type": "markdown",
   "metadata": {},
   "source": []
  }
 ],
 "metadata": {
  "kernelspec": {
   "display_name": "Python 3",
   "language": "python",
   "name": "python3"
  },
  "language_info": {
   "codemirror_mode": {
    "name": "ipython",
    "version": 3
   },
   "file_extension": ".py",
   "mimetype": "text/x-python",
   "name": "python",
   "nbconvert_exporter": "python",
   "pygments_lexer": "ipython3",
   "version": "3.10.12"
  }
 },
 "nbformat": 4,
 "nbformat_minor": 2
}
