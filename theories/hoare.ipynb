{
 "cells": [
  {
   "cell_type": "markdown",
   "metadata": {},
   "source": [
    "# Hoare Logic\n",
    "Separation logic. Not going to play that nice with z3.\n",
    "\n",
    "Hmm. The raw cvc5 interface isn't that pleasant.\n",
    "\n",
    "Winskel\n",
    "Software Foundations\n",
    "Dafny Book\n",
    "Frama-C\n",
    "\n",
    "    \n"
   ]
  },
  {
   "cell_type": "code",
   "execution_count": null,
   "metadata": {},
   "outputs": [],
   "source": [
    "import cvc5\n",
    "solver = cvc5.Solver()\n",
    "solver.setLogic(\"ALL\")\n",
    "realSort = solver.getRealSort()\n",
    "constraint1 = solver.mkTerm(Kind.LT, zero, x)\n",
    "solver.assertFormula(constraint4)\n",
    "solver.resetAssertions()\n",
    "r2 = solver.checkSat()\n",
    "unsatCore = solver.getUnsatCore();\n",
    "# https://greentreesnakes.readthedocs.io/en/latest/nodes.html \n",
    "import ast\n",
    "tree = ast.parse(\"x = x + 3\", mode=\"single\")\n",
    "match tree.body[0]:\n",
    "    case ast.Assign([ast.Name(name, ast.Store())], expr):\n",
    "        print(name, expr)\n",
    "    case x:\n",
    "        print(x)\n",
    "\n",
    "\n",
    "def wp(stmt,post):\n",
    "    match stmt:\n",
    "        case ast.Assign([ast.Name(name, ast.Store())], expr):\n",
    "            return z3.substitute(z3.Int(\"name\"), expr)\n",
    "        case ast.Pass():\n",
    "            return post\n",
    "        case _:\n",
    "            assert False\n",
    "\n",
    "def triple(pre,stmt,post):\n",
    "    mywp = wp(stmt,post)\n",
    "\n",
    "def assign_triple(pre : Form, name, expr, post : Form, by=[]):\n",
    "    wp = z3.substitute(post, (x, expr))\n",
    "    check(infer(by, pre > wp))\n",
    "    return trust( (pre, ast.Assign([name], expr), post))\n",
    "\n",
    "def seq_triple(s1 : Triple, s2: Triple):"
   ]
  }
 ],
 "metadata": {
  "language_info": {
   "name": "python"
  }
 },
 "nbformat": 4,
 "nbformat_minor": 2
}
