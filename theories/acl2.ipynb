{
 "cells": [
  {
   "cell_type": "markdown",
   "metadata": {},
   "source": [
    "# ACL2\n",
    "\n",
    "ACL2 is a theorem prover in Common Lisp. The logic is a simplified and purified variation of common lisp itself.\n",
    "\n",
    "It is a very powerful (in the automation and polish sense) semiautomated system. The logic itself it offers is quite weak by logical standards. This perhaps good\n",
    "\n",
    "It is somewhat natural to look to this design for inspiration for one that might be appropriate for python. Python shares many properties with lisp. It's a dynamic language with first class functions.\n",
    "\n",
    "- Untyped lispy terms\n",
    "- Quantifier free\n"
   ]
  },
  {
   "cell_type": "code",
   "execution_count": null,
   "metadata": {},
   "outputs": [],
   "source": [
    "from z3 import *\n",
    "U = Datatype('Univ')\n",
    "U.declare('cons', ('car', U), ('cdr', U))\n",
    "U.declare('bool', ('bool_val', BoolSort()))\n",
    "U.declare('real', ('real_val', RealSort()))\n",
    "U.declare('string', ('string_val', StringSort()))\n",
    "U.declare('int', ('int_val', IntSort()))\n",
    "U.declare('nil')\n",
    "U = U.create()\n",
    "print(dir(U))\n",
    "print(simplify(U.is_bool(U.bool(True))))\n",
    "print(simplify(U.int_val(U.int(1))))\n",
    "print(U.cons(U.int(1), U.nil))\n",
    "\n",
    "# Can I add operations?\n",
    "#U.__add__ = lambda self, other: U.int(self, other)\n",
    "car = U.car\n",
    "cdr = U.cdr\n",
    "cons = U.cons\n",
    "nil = U.nil\n",
    "\n",
    "def atom(x):\n",
    "    return Not(U.is_cons(x))\n",
    "def consp(x):\n",
    "    return U.is_cons(x)\n",
    "def integerp(x):\n",
    "    return U.is_int(x)\n",
    "\n",
    "\n",
    "Function(\"order\", U, U, BoolSort())\n",
    "= RecursiveFunc()\n",
    "If(is_cons(x),\n",
    "  And(e0_ordinalp(car(x)), car(x) != U.int(0), \n",
    "      e0_ordinalp(cdr(x)), \n",
    "      Or(atom(cdr(x)), \n",
    "      Not(e0-ord-<(car(x), cadr(x)))),\n",
    "  And(integerp(x), U.int_val(x) >= 0)))"
   ]
  }
 ],
 "metadata": {
  "kernelspec": {
   "display_name": "Python 3",
   "language": "python",
   "name": "python3"
  },
  "language_info": {
   "name": "python",
   "version": "3.10.12"
  }
 },
 "nbformat": 4,
 "nbformat_minor": 2
}
