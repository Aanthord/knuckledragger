{
 "cells": [
  {
   "cell_type": "markdown",
   "metadata": {},
   "source": [
    "TPTP is a useful source of axioms. I put some of them n the\n",
    "\n",
    "https://link.springer.com/article/10.1007/BF00243005 Hmm McCume point set topology"
   ]
  },
  {
   "cell_type": "code",
   "execution_count": null,
   "metadata": {},
   "outputs": [],
   "source": [
    "from PyRes.fofspec import FOFSpec\n",
    "from PyRes.saturation import SearchParams,ProofState\n",
    "# https://github.com/eprover/PyRes/blob/master/pyres-fof.py\n",
    "params = SearchParams()\n",
    "print(params)\n",
    "\n",
    "suppressEqAxioms = False\n",
    "silent           = False\n",
    "indexed          = True\n",
    "proofObject      = False\n",
    "\n",
    "params.delete_tautologies = True\n",
    "params.forward_subsumption = True\n",
    "params.backward_subsumption = True\n",
    "#params.heuristics = GivenClauseHeuristics[optarg]\n",
    "#params.literal_selection = LiteralSelectors[optarg]\n",
    "\n",
    "problem = FOFSpec()\n",
    "#problem.parse(file)\n",
    "if not suppressEqAxioms:\n",
    "    problem.addEqAxioms()\n",
    "\n",
    "cnf = problem.clausify()\n",
    "state = ProofState(params, cnf, silent, indexed)\n",
    "res = state.saturate()\n",
    "print(res)\n",
    "print(problem.formulas)\n",
    "from PyRes.lexer import Lexer\n",
    "lexer = Lexer(\"foo(bar,Biz)\")\n",
    "print(lex)\n",
    "from PyRes.formulas import parseFormula, parseWFormula\n",
    "form = parseFormula(Lexer(\"foo(bar,Biz)\"))\n",
    "print(form.isUnary())\n",
    "wform = parseWFormula(Lexer(\"fof(myformula, axiom, foo(bar,Biz)).\"))\n",
    "wform\n",
    "problem.addFormula(wform)\n",
    "problem\n",
    "problem.addEqAxioms()\n",
    "problem\n",
    "problem.clausify()\n",
    "\n",
    "def ForAll(x,body):\n",
    "    return Formula(\"!\", x, body)\n",
    "def And(*args):\n",
    "    return Formula(\"&\", )\n",
    "Formula.__eq__ = lambda self, other: Formula(\"=\", self, other)\n",
    "Formula.__and__ = lambda self, other: Formula(\"&\", self, other)"
   ]
  },
  {
   "cell_type": "code",
   "execution_count": 1,
   "metadata": {},
   "outputs": [
    {
     "data": {
      "text/plain": [
       "cnf(closure_of_composition,axiom,~defined(X,Y)|product(X,Y,compose(X,Y))).\n",
       "cnf(associative_property1,axiom,~product(X,Y,Z)|defined(X,Y)).\n",
       "cnf(associative_property2,axiom,~product(X,Y,Xy)|~defined(Xy,Z)|defined(Y,Z)).\n",
       "cnf(category_theory_axiom1,axiom,~product(X,Y,Xy)|~product(Y,Z,Yz)|~defined(Xy,Z)|defined(X,Yz)).\n",
       "cnf(category_theory_axiom2,axiom,~product(X,Y,Xy)|~product(Xy,Z,Xyz)|~product(Y,Z,Yz)|product(X,Yz,Xyz)).\n",
       "cnf(category_theory_axiom3,axiom,~product(Y,Z,Yz)|~defined(X,Yz)|defined(X,Y)).\n",
       "cnf(category_theory_axiom4,axiom,~product(Y,Z,Yz)|~product(X,Y,Xy)|~defined(X,Yz)|defined(Xy,Z)).\n",
       "cnf(category_theory_axiom5,axiom,~product(Y,Z,Yz)|~product(X,Yz,Xyz)|~product(X,Y,Xy)|product(Xy,Z,Xyz)).\n",
       "cnf(category_theory_axiom6,axiom,~defined(X,Y)|~defined(Y,Z)|~identity_map(Y)|defined(X,Z)).\n",
       "cnf(domain_is_an_identity_map,axiom,identity_map(domain(X))).\n",
       "cnf(codomain_is_an_identity_map,axiom,identity_map(codomain(X))).\n",
       "cnf(mapping_from_x_to_its_domain,axiom,defined(X,domain(X))).\n",
       "cnf(mapping_from_codomain_of_x_to_x,axiom,defined(codomain(X),X)).\n",
       "cnf(product_on_domain,axiom,product(X,domain(X),X)).\n",
       "cnf(product_on_codomain,axiom,product(codomain(X),X,X)).\n",
       "cnf(identity1,axiom,~defined(X,Y)|~identity_map(X)|product(X,Y,Y)).\n",
       "cnf(identity2,axiom,~defined(X,Y)|~identity_map(Y)|product(X,Y,X)).\n",
       "cnf(composition_is_well_defined,axiom,~product(X,Y,Z)|~product(X,Y,W)|Z=W)."
      ]
     },
     "execution_count": 1,
     "metadata": {},
     "output_type": "execute_result"
    }
   ],
   "source": [
    "from PyRes.fofspec import FOFSpec\n",
    "problem = FOFSpec()\n",
    "problem.parse(\"./tptp/category/CAT001-0.ax\")\n",
    "problem"
   ]
  },
  {
   "cell_type": "code",
   "execution_count": null,
   "metadata": {},
   "outputs": [],
   "source": []
  }
 ],
 "metadata": {
  "kernelspec": {
   "display_name": "Python 3",
   "language": "python",
   "name": "python3"
  },
  "language_info": {
   "codemirror_mode": {
    "name": "ipython",
    "version": 3
   },
   "file_extension": ".py",
   "mimetype": "text/x-python",
   "name": "python",
   "nbconvert_exporter": "python",
   "pygments_lexer": "ipython3",
   "version": "3.10.12"
  }
 },
 "nbformat": 4,
 "nbformat_minor": 2
}
