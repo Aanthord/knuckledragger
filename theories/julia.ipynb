{
 "cells": [
  {
   "cell_type": "markdown",
   "metadata": {},
   "source": [
    "# Julia\n",
    "\n",
    "I think sticking to python has wider appeal. Pycall.jl makes it very easy to use across languages.\n",
    "It is nice to get unicode support.\n",
    "\n",
    "Julia does have some very cool functionality and libraries.\n",
    "\n",
    "It would be incredible to get to the point someday where speed is an issue.\n",
    "\n"
   ]
  }
 ],
 "metadata": {
  "language_info": {
   "name": "python"
  }
 },
 "nbformat": 4,
 "nbformat_minor": 2
}
