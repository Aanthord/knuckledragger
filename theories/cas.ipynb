{
 "cells": [
  {
   "cell_type": "markdown",
   "metadata": {},
   "source": [
    "# CAS\n",
    "Computer algebra calculations. Can I use sympy, sage etc. What kinds of computations might I want to verify?\n",
    "\n",
    "Sums\n",
    "Hypergeometric identities\n",
    "Gosper's algorithm\n",
    "\n",
    "The shadow calculus might be an acceptable stand in for calculus.\n",
    "\n",
    "Concrete Mathematics\n",
    "Iverson had a concrete mathematics book. That's intriguing\n",
    "\n",
    "Σ"
   ]
  },
  {
   "cell_type": "code",
   "execution_count": 4,
   "metadata": {},
   "outputs": [
    {
     "data": {
      "text/plain": [
       "45"
      ]
     },
     "execution_count": 4,
     "metadata": {},
     "output_type": "execute_result"
    }
   ],
   "source": [
    "Σ = sum # ill advised but amusing.\n",
    "Σ(range(10))"
   ]
  },
  {
   "cell_type": "code",
   "execution_count": null,
   "metadata": {},
   "outputs": [],
   "source": [
    "\\beta"
   ]
  }
 ],
 "metadata": {
  "kernelspec": {
   "display_name": "Python 3",
   "language": "python",
   "name": "python3"
  },
  "language_info": {
   "codemirror_mode": {
    "name": "ipython",
    "version": 3
   },
   "file_extension": ".py",
   "mimetype": "text/x-python",
   "name": "python",
   "nbconvert_exporter": "python",
   "pygments_lexer": "ipython3",
   "version": "3.10.12"
  }
 },
 "nbformat": 4,
 "nbformat_minor": 2
}
