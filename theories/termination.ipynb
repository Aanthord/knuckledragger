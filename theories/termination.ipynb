{
 "cells": [
  {
   "cell_type": "markdown",
   "metadata": {},
   "source": [
    "We want the ability to make recursive definitions of functions.\n",
    "Without carefulness these definitions may not terminate or be partial in other ways\n",
    "This is something to be careful about.\n",
    "\n",
    "AProve\n",
    "Dafny termination\n",
    "ACL2 termination. Ordinal.\n",
    "\n"
   ]
  }
 ],
 "metadata": {
  "language_info": {
   "name": "python"
  }
 },
 "nbformat": 4,
 "nbformat_minor": 2
}
